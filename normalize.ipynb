{
 "cells": [
  {
   "cell_type": "code",
   "execution_count": 1,
   "id": "0f3c51e5-dbd5-47b7-a463-9fddae624e99",
   "metadata": {},
   "outputs": [
    {
     "name": "stderr",
     "output_type": "stream",
     "text": [
      "C:\\Users\\jreye\\anaconda3\\envs\\test_GPU\\lib\\site-packages\\pydub\\utils.py:170: RuntimeWarning: Couldn't find ffmpeg or avconv - defaulting to ffmpeg, but may not work\n",
      "  warn(\"Couldn't find ffmpeg or avconv - defaulting to ffmpeg, but may not work\", RuntimeWarning)\n"
     ]
    }
   ],
   "source": [
    "# Place this file into the folder with the audios you want to compress\n",
    "\n",
    "import os\n",
    "import fnmatch\n",
    "from pydub import AudioSegment, effects\n"
   ]
  },
  {
   "cell_type": "code",
   "execution_count": 2,
   "id": "3dc2bbf3-7cd7-43af-b90a-cc68c3e9972b",
   "metadata": {},
   "outputs": [],
   "source": [
    "for file in os.listdir('.'):\n",
    "    if fnmatch.fnmatch(file, '*.wav'):\n",
    "        rawsound = AudioSegment.from_file(file)\n",
    "        normalizedsound = effects.compress_dynamic_range(rawsound)\n",
    "        # Change the path to the folder you want the compressed audios to go into, make sure the file exists or there will be an error\n",
    "        # Don't place the new audios into the same folder as the originals or they will be overwritten\n",
    "        normalizedsound.export(os.path.join(\"C:/Users/jreye/ML_DATA/ML_dataset/shit\", file), format = \"wav\")"
   ]
  },
  {
   "cell_type": "code",
   "execution_count": null,
   "id": "08414c4a-7453-45c6-bb61-e1605ca42150",
   "metadata": {},
   "outputs": [],
   "source": []
  }
 ],
 "metadata": {
  "kernelspec": {
   "display_name": "Python 3 (ipykernel)",
   "language": "python",
   "name": "python3"
  },
  "language_info": {
   "codemirror_mode": {
    "name": "ipython",
    "version": 3
   },
   "file_extension": ".py",
   "mimetype": "text/x-python",
   "name": "python",
   "nbconvert_exporter": "python",
   "pygments_lexer": "ipython3",
   "version": "3.10.10"
  }
 },
 "nbformat": 4,
 "nbformat_minor": 5
}
